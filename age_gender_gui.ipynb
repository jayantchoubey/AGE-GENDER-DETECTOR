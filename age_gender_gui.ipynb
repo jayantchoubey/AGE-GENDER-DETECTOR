{
 "cells": [
  {
   "cell_type": "markdown",
   "metadata": {},
   "source": [
    "Importing Necessary Libraries"
   ]
  },
  {
   "cell_type": "code",
   "execution_count": 24,
   "metadata": {},
   "outputs": [],
   "source": [
    "import tkinter as tk\n",
    "from tkinter import filedialog\n",
    "from tkinter import *\n",
    "from PIL import Image, ImageTk\n",
    "import numpy\n",
    "import numpy as np"
   ]
  },
  {
   "cell_type": "markdown",
   "metadata": {},
   "source": [
    "Importing the Model"
   ]
  },
  {
   "cell_type": "code",
   "execution_count": 25,
   "metadata": {},
   "outputs": [],
   "source": [
    "from keras.models import load_model\n",
    "model = load_model('Age_Gender_Detection.h5')"
   ]
  },
  {
   "cell_type": "markdown",
   "metadata": {},
   "source": [
    "Initializing the GUI"
   ]
  },
  {
   "cell_type": "code",
   "execution_count": 26,
   "metadata": {},
   "outputs": [],
   "source": [
    "top = tk.Tk()\n",
    "top.geometry('800x600')\n",
    "top.title('Age and Gender Detector')\n",
    "top.configure(background = '#CDCDCD')"
   ]
  },
  {
   "cell_type": "markdown",
   "metadata": {},
   "source": [
    "Initializing the labels for gender and age"
   ]
  },
  {
   "cell_type": "code",
   "execution_count": 27,
   "metadata": {},
   "outputs": [],
   "source": [
    "\n",
    "label1 = Label(top, background = '#CDCDCD', font = ('arial',15,'bold'))\n",
    "label2 = Label(top, background = '#CDCDCD', font = ('arial',15,'bold'))\n",
    "sign_image = Label(top)"
   ]
  },
  {
   "cell_type": "markdown",
   "metadata": {},
   "source": [
    "Defining Detect function which detects the Age and Gender of the person in Image using the Model"
   ]
  },
  {
   "cell_type": "code",
   "execution_count": 28,
   "metadata": {},
   "outputs": [],
   "source": [
    "def Detect(file_path):\n",
    "    global label_packed\n",
    "    image = Image.open(file_path)\n",
    "    image = image.resize((48, 48))\n",
    "    image = numpy.expand_dims(image, axis = 0)\n",
    "    image = np.array(image)\n",
    "    image = np.delete(image, 0, 1)\n",
    "    image = np.resize(image, (48, 48, 3))\n",
    "    print(image.shape)\n",
    "    sex_f = [\"Male\", \"Female\"]\n",
    "    image = np.array([image])/255\n",
    "    pred = model.predict(image)\n",
    "    age = int(np.round(pred[1][0]))\n",
    "    sex = int(np.round(pred[0][0]))\n",
    "    print(\"Predicted age is \" + str(age))\n",
    "    print(\"Gender age is \" + sex_f[sex])\n",
    "    label1.configure(foreground = '#011638', text = age)\n",
    "    label2.configure(foreground = '#011638', text = sex_f[sex])"
   ]
  },
  {
   "cell_type": "markdown",
   "metadata": {},
   "source": [
    "Defining 'Detect' Button function"
   ]
  },
  {
   "cell_type": "code",
   "execution_count": 29,
   "metadata": {},
   "outputs": [],
   "source": [
    "def show_Detect_button(file_path):\n",
    "    Detect_b = Button(top, text = \"Detect Image\", command = lambda: Detect(file_path), padx = 10, pady = 5)\n",
    "    Detect_b.configure(background = '#364156', foreground = 'white', font = ('arial', 10, 'bold'))\n",
    "    Detect_b.place(relx = 0.79, rely = 0.46)"
   ]
  },
  {
   "cell_type": "markdown",
   "metadata": {},
   "source": [
    "Defining Upload image function"
   ]
  },
  {
   "cell_type": "code",
   "execution_count": 30,
   "metadata": {},
   "outputs": [],
   "source": [
    "def upload_image():\n",
    "    try:\n",
    "        file_path = filedialog.askopenfilename()\n",
    "        uploaded = Image.open(file_path)\n",
    "        uploaded.thumbnail(((top.winfo_width()/2.25),(top.winfo_height()/2.25)))\n",
    "        im = ImageTk.PhotoImage(uploaded)\n",
    "\n",
    "        sign_image.configure(image = im)\n",
    "        sign_image.image = im\n",
    "        label1.configure(text = '')\n",
    "        label2.configure(text = '')\n",
    "        show_Detect_button(file_path)\n",
    "    except:\n",
    "        pass"
   ]
  },
  {
   "cell_type": "code",
   "execution_count": 31,
   "metadata": {},
   "outputs": [
    {
     "name": "stdout",
     "output_type": "stream",
     "text": [
      "(48, 48, 3)\n",
      "1/1 [==============================] - 0s 397ms/step\n",
      "Predicted age is 2\n",
      "Gender age is Male\n",
      "(48, 48, 3)\n",
      "1/1 [==============================] - 0s 25ms/step\n",
      "Predicted age is 29\n",
      "Gender age is Female\n",
      "(48, 48, 3)\n",
      "1/1 [==============================] - 0s 25ms/step\n",
      "Predicted age is 18\n",
      "Gender age is Male\n",
      "(48, 48, 3)\n",
      "1/1 [==============================] - 0s 25ms/step\n",
      "Predicted age is 35\n",
      "Gender age is Male\n",
      "(48, 48, 3)\n",
      "1/1 [==============================] - 0s 25ms/step\n",
      "Predicted age is 46\n",
      "Gender age is Male\n",
      "(48, 48, 3)\n",
      "1/1 [==============================] - 0s 24ms/step\n",
      "Predicted age is 16\n",
      "Gender age is Male\n",
      "(48, 48, 3)\n",
      "1/1 [==============================] - 0s 27ms/step\n",
      "Predicted age is 18\n",
      "Gender age is Male\n",
      "(48, 48, 3)\n",
      "1/1 [==============================] - 0s 25ms/step\n",
      "Predicted age is 25\n",
      "Gender age is Male\n"
     ]
    }
   ],
   "source": [
    "upload = Button(top, text = \"Upload an Image\", command = upload_image, padx = 10, pady = 5)\n",
    "upload.configure(background = '#364156', foreground = 'white', font = ('arial', 10, 'bold'))\n",
    "upload.pack(side = 'bottom', pady = 50)\n",
    "sign_image.pack(side = 'bottom', expand = True)\n",
    "label1.pack(side = 'bottom', expand = True)\n",
    "label2.pack(side = 'bottom', expand = True)\n",
    "heading = Label(top, text = \"Age and Gender Detector\", pady = 20, font = ('arial', 20, 'bold'))\n",
    "heading.configure(background = '#CDCDCD', foreground = '#364156')\n",
    "heading.pack()\n",
    "top.mainloop()"
   ]
  },
  {
   "cell_type": "code",
   "execution_count": null,
   "metadata": {},
   "outputs": [],
   "source": []
  }
 ],
 "metadata": {
  "kernelspec": {
   "display_name": "Python 3.10.6 64-bit",
   "language": "python",
   "name": "python3"
  },
  "language_info": {
   "codemirror_mode": {
    "name": "ipython",
    "version": 3
   },
   "file_extension": ".py",
   "mimetype": "text/x-python",
   "name": "python",
   "nbconvert_exporter": "python",
   "pygments_lexer": "ipython3",
   "version": "3.10.6"
  },
  "orig_nbformat": 4,
  "vscode": {
   "interpreter": {
    "hash": "50086019b946be6b8de9e4507aca4eaed3098a81c34f2e0b613952d5498a431a"
   }
  }
 },
 "nbformat": 4,
 "nbformat_minor": 2
}
